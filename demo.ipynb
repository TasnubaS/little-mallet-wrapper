{
 "cells": [
  {
   "cell_type": "code",
   "execution_count": 1,
   "metadata": {},
   "outputs": [],
   "source": [
    "from collections import defaultdict\n",
    "from datetime import datetime\n",
    "import math\n",
    "from operator import itemgetter\n",
    "import os\n",
    "import random\n",
    "import re\n",
    "\n",
    "import numpy as np\n",
    "import pandas as pd\n",
    "\n",
    "%matplotlib inline\n",
    "\n",
    "import little_mallet_wrapper as lmw"
   ]
  },
  {
   "cell_type": "markdown",
   "metadata": {},
   "source": [
    "<br><br>\n",
    "\n",
    "# MALLET Path\n",
    "\n",
    "Change the path below to the location of your local MALLET installation."
   ]
  },
  {
   "cell_type": "code",
   "execution_count": 2,
   "metadata": {},
   "outputs": [],
   "source": [
    "MALLET_PATH = '/Users/mah343/Documents/packages/mallet-2.0.8/bin/mallet'  # CHANGE THIS TO YOUR MALLET PATH"
   ]
  },
  {
   "cell_type": "markdown",
   "metadata": {},
   "source": [
    "<br><br>\n",
    "\n",
    "# Load poetry dataset\n",
    "\n",
    "Data is available here: https://www.kaggle.com/johnhallman/complete-poetryfoundationorg-dataset"
   ]
  },
  {
   "cell_type": "code",
   "execution_count": 3,
   "metadata": {},
   "outputs": [],
   "source": [
    "poetry_path = '/Volumes/Maria\\'s Black Passport/data/kaggle-poem-dataset/kaggle_poem_dataset.csv'  # CHANGE THIS TO YOUR DATASET PATH"
   ]
  },
  {
   "cell_type": "code",
   "execution_count": 4,
   "metadata": {},
   "outputs": [],
   "source": [
    "# 'https://www.kaggle.com/johnhallman/complete-poetryfoundationorg-dataset/download'"
   ]
  },
  {
   "cell_type": "code",
   "execution_count": 5,
   "metadata": {},
   "outputs": [
    {
     "data": {
      "text/html": [
       "<div>\n",
       "<style scoped>\n",
       "    .dataframe tbody tr th:only-of-type {\n",
       "        vertical-align: middle;\n",
       "    }\n",
       "\n",
       "    .dataframe tbody tr th {\n",
       "        vertical-align: top;\n",
       "    }\n",
       "\n",
       "    .dataframe thead th {\n",
       "        text-align: right;\n",
       "    }\n",
       "</style>\n",
       "<table border=\"1\" class=\"dataframe\">\n",
       "  <thead>\n",
       "    <tr style=\"text-align: right;\">\n",
       "      <th></th>\n",
       "      <th>Unnamed: 0</th>\n",
       "      <th>Author</th>\n",
       "      <th>Title</th>\n",
       "      <th>Poetry Foundation ID</th>\n",
       "      <th>Content</th>\n",
       "    </tr>\n",
       "  </thead>\n",
       "  <tbody>\n",
       "    <tr>\n",
       "      <th>10150</th>\n",
       "      <td>10150</td>\n",
       "      <td>Christopher Marlowe</td>\n",
       "      <td>The Passionate Shepherd to His Love</td>\n",
       "      <td>44675</td>\n",
       "      <td>Come live with me and be my love,\\nAnd we will...</td>\n",
       "    </tr>\n",
       "    <tr>\n",
       "      <th>1509</th>\n",
       "      <td>1509</td>\n",
       "      <td>Mark Rudman</td>\n",
       "      <td>Birthday Blues</td>\n",
       "      <td>50033</td>\n",
       "      <td>Today's the rider's birthday.\\n\\nI see you're ...</td>\n",
       "    </tr>\n",
       "    <tr>\n",
       "      <th>666</th>\n",
       "      <td>666</td>\n",
       "      <td>Terese Svoboda</td>\n",
       "      <td>Aphra Plays</td>\n",
       "      <td>58604</td>\n",
       "      <td>Aphra Behn is not wearing all her clothes\\nin ...</td>\n",
       "    </tr>\n",
       "    <tr>\n",
       "      <th>9294</th>\n",
       "      <td>9294</td>\n",
       "      <td>Anna Rabinowitz</td>\n",
       "      <td>Notes: Coercive Counterintelligence Interrogat...</td>\n",
       "      <td>145312</td>\n",
       "      <td>HOW TO SUCCEED IN TORTURE\\nWITHOUT REALLY TRYI...</td>\n",
       "    </tr>\n",
       "    <tr>\n",
       "      <th>9245</th>\n",
       "      <td>9245</td>\n",
       "      <td>John Koethe</td>\n",
       "      <td>North Point North</td>\n",
       "      <td>48106</td>\n",
       "      <td>I\\n\\n\\nIn these I find my calling:\\nIn the sho...</td>\n",
       "    </tr>\n",
       "    <tr>\n",
       "      <th>8149</th>\n",
       "      <td>8149</td>\n",
       "      <td>Gail Mazur</td>\n",
       "      <td>Maternal</td>\n",
       "      <td>46803</td>\n",
       "      <td>On the telephone, friends mistake us now\\nwhen...</td>\n",
       "    </tr>\n",
       "    <tr>\n",
       "      <th>9659</th>\n",
       "      <td>9659</td>\n",
       "      <td>Alan Dugan</td>\n",
       "      <td>On Hurricane Jackson</td>\n",
       "      <td>55174</td>\n",
       "      <td>Now his nose’s bridge is broken, one eye\\nwill...</td>\n",
       "    </tr>\n",
       "    <tr>\n",
       "      <th>12357</th>\n",
       "      <td>12357</td>\n",
       "      <td>James Joyce</td>\n",
       "      <td>Song</td>\n",
       "      <td>53968</td>\n",
       "      <td>My love is in a light attire\\nAmong the apple ...</td>\n",
       "    </tr>\n",
       "    <tr>\n",
       "      <th>1972</th>\n",
       "      <td>1972</td>\n",
       "      <td>Ezra Pound</td>\n",
       "      <td>Canto XXXVI</td>\n",
       "      <td>54318</td>\n",
       "      <td>A Lady asks me\\nI speak in season\\nShe seeks r...</td>\n",
       "    </tr>\n",
       "    <tr>\n",
       "      <th>5332</th>\n",
       "      <td>5332</td>\n",
       "      <td>Claudia Emerson</td>\n",
       "      <td>Ground Truth</td>\n",
       "      <td>58431</td>\n",
       "      <td>My brother's funeral over, the dark-clothed\\nc...</td>\n",
       "    </tr>\n",
       "  </tbody>\n",
       "</table>\n",
       "</div>"
      ],
      "text/plain": [
       "       Unnamed: 0               Author  \\\n",
       "10150       10150  Christopher Marlowe   \n",
       "1509         1509          Mark Rudman   \n",
       "666           666       Terese Svoboda   \n",
       "9294         9294      Anna Rabinowitz   \n",
       "9245         9245          John Koethe   \n",
       "8149         8149           Gail Mazur   \n",
       "9659         9659           Alan Dugan   \n",
       "12357       12357          James Joyce   \n",
       "1972         1972           Ezra Pound   \n",
       "5332         5332      Claudia Emerson   \n",
       "\n",
       "                                                   Title  \\\n",
       "10150                The Passionate Shepherd to His Love   \n",
       "1509                                      Birthday Blues   \n",
       "666                                          Aphra Plays   \n",
       "9294   Notes: Coercive Counterintelligence Interrogat...   \n",
       "9245                                   North Point North   \n",
       "8149                                            Maternal   \n",
       "9659                                On Hurricane Jackson   \n",
       "12357                                               Song   \n",
       "1972                                         Canto XXXVI   \n",
       "5332                                        Ground Truth   \n",
       "\n",
       "       Poetry Foundation ID                                            Content  \n",
       "10150                 44675  Come live with me and be my love,\\nAnd we will...  \n",
       "1509                  50033  Today's the rider's birthday.\\n\\nI see you're ...  \n",
       "666                   58604  Aphra Behn is not wearing all her clothes\\nin ...  \n",
       "9294                 145312  HOW TO SUCCEED IN TORTURE\\nWITHOUT REALLY TRYI...  \n",
       "9245                  48106  I\\n\\n\\nIn these I find my calling:\\nIn the sho...  \n",
       "8149                  46803  On the telephone, friends mistake us now\\nwhen...  \n",
       "9659                  55174  Now his nose’s bridge is broken, one eye\\nwill...  \n",
       "12357                 53968  My love is in a light attire\\nAmong the apple ...  \n",
       "1972                  54318  A Lady asks me\\nI speak in season\\nShe seeks r...  \n",
       "5332                  58431  My brother's funeral over, the dark-clothed\\nc...  "
      ]
     },
     "execution_count": 5,
     "metadata": {},
     "output_type": "execute_result"
    }
   ],
   "source": [
    "poetry_df = pd.read_csv(poetry_path)\n",
    "\n",
    "poetry_df.sample(10)"
   ]
  },
  {
   "cell_type": "code",
   "execution_count": 6,
   "metadata": {},
   "outputs": [
    {
     "name": "stdout",
     "output_type": "stream",
     "text": [
      "15652\n"
     ]
    }
   ],
   "source": [
    "print(len(poetry_df.index))"
   ]
  },
  {
   "cell_type": "code",
   "execution_count": 7,
   "metadata": {},
   "outputs": [
    {
     "name": "stdout",
     "output_type": "stream",
     "text": [
      "39\n"
     ]
    }
   ],
   "source": [
    "print(len(poetry_df.loc[poetry_df['Author'] == 'Robert Browning'].index))"
   ]
  },
  {
   "cell_type": "code",
   "execution_count": 8,
   "metadata": {},
   "outputs": [
    {
     "name": "stdout",
     "output_type": "stream",
     "text": [
      "47\n"
     ]
    }
   ],
   "source": [
    "print(len(poetry_df.loc[poetry_df['Author'] == 'William Butler Yeats'].index))"
   ]
  },
  {
   "cell_type": "code",
   "execution_count": 9,
   "metadata": {},
   "outputs": [
    {
     "name": "stdout",
     "output_type": "stream",
     "text": [
      "32\n"
     ]
    }
   ],
   "source": [
    "print(len(poetry_df.loc[poetry_df['Author'] == 'John Keats'].index))"
   ]
  },
  {
   "cell_type": "code",
   "execution_count": 10,
   "metadata": {},
   "outputs": [
    {
     "name": "stdout",
     "output_type": "stream",
     "text": [
      "57\n"
     ]
    }
   ],
   "source": [
    "print(len(poetry_df.loc[poetry_df['Author'] == 'Emily Dickinson'].index))"
   ]
  },
  {
   "cell_type": "code",
   "execution_count": 11,
   "metadata": {},
   "outputs": [
    {
     "name": "stdout",
     "output_type": "stream",
     "text": [
      "30\n"
     ]
    }
   ],
   "source": [
    "print(len(poetry_df.loc[poetry_df['Author'] == 'Christina Rossetti'].index))"
   ]
  },
  {
   "cell_type": "code",
   "execution_count": 12,
   "metadata": {},
   "outputs": [
    {
     "data": {
      "text/plain": [
       "15652"
      ]
     },
     "execution_count": 12,
     "metadata": {},
     "output_type": "execute_result"
    }
   ],
   "source": [
    "training_documents = [lmw.process_string(_text) for _text in poetry_df['Content'].tolist()]\n",
    "\n",
    "len(training_documents)"
   ]
  },
  {
   "cell_type": "code",
   "execution_count": 13,
   "metadata": {},
   "outputs": [
    {
     "data": {
      "text/plain": [
       "'year twelve daughters turn gone measured pace tho varying mien twelve froward sedater adorn festival reckless attire snow left mountain top fresh flowers withered meadow fig prune hung wrinkling last apple glow amid freckled leaves weary oxen blinkt trodden corn twisted vine whose bunches stood empty crate creak ere long beneath carried home season twelve months gentle hamadryad true love thy mansion thy dim mansion wood blasted laid desolate none dared violate precincts none dared pluck moss beneath alone remain thine old thallinos sat mute solitary sadness strange tale rhaicos died whole echion related force could ever make look back upon oaks father said echion thou must weigh carefully steady hand enough although longer comes store wax burn day night upon hollow stone milk honey lie may gods may dead pleas thallinos bore thither morn lighted left first visited upon solemn day hamadryad oak rhodope acon one age one hope one trust graceful nymph whose fate sorrowed slender pale first lapt flame love father lands fertile herds lowed afar stood two aside hollow stone lookt stedfast eyes toward oak shivered black bare may never love loved said acon smiled said meant say thought bliss end caught flying smile blusht vow time power whereto might love hath yielded may yield alter father youth wanted beauty wanted song could lift earth weight heart discretion could guide thro world innocence could clear way heaven silver gold land green ancestral gate purple skies bending far wanted heir fathers given life virgin heart never gave dare control check harshly dare break bond girt round holiest power high acon grieved said grieved bitterly acon complied twas dutiful crush thy heart man man fear wound gentler relies thee alone thee created weak strong thee touch worship watch sanctuary leave till closed temple doors last lamp spent rhodope soul waste solitude sate mournful dull resounding sea often hearing many tears cold breezes hardened cheek meanwhile sauntered wood oaks shun look upon hollow stone held milk honey lay plighted hand recently twas laid opposite finger playfully advanced pusht back finger side think would alone day hot moss invited cool cheek cool hands thrust sank slumber never dream divine saw hamadryad took arm led along valley profusely grew smaller lilies pendent bells hiding mint chill drosera violet shy butting cyclamen feathery fern browser moist banks offspring round soft strawberry quivering spray ruddy tamarisk oleander light hair progeny breathing bright freshness face graceful rose bending brow cup fragrance beauty boon gods fragrance fill breast delight senses bewildered thought saw face loved stopt hamadryad side stood drew farther went compliant soon verdure ceast altho ground smooth nothing delightful change would spoken guide represt questioning said weak youth brought thy footstep wood native haunt life long residence bank first sate faithful know late faithful rhaicos haste thee home happy thou canst come death alone could sever died started moss whereon slept dried withered deadlier paleness spread cheek sickened sire land enough held son'"
      ]
     },
     "execution_count": 13,
     "metadata": {},
     "output_type": "execute_result"
    }
   ],
   "source": [
    "training_documents[100]"
   ]
  },
  {
   "cell_type": "code",
   "execution_count": 14,
   "metadata": {},
   "outputs": [
    {
     "data": {
      "text/plain": [
       "15652"
      ]
     },
     "execution_count": 14,
     "metadata": {},
     "output_type": "execute_result"
    }
   ],
   "source": [
    "authors = poetry_df['Author'].tolist()\n",
    "\n",
    "len(authors)"
   ]
  },
  {
   "cell_type": "markdown",
   "metadata": {},
   "source": [
    "<br><br>\n",
    "\n",
    "# Train topic model\n",
    "\n",
    "Depending on the size of your dataset, training can take a while. For very large datasets, I recommending training outside of a notebook.\n",
    "\n",
    "While training, you can observe progress by checking the terminal window from which you started Jupyter."
   ]
  },
  {
   "cell_type": "code",
   "execution_count": 15,
   "metadata": {},
   "outputs": [],
   "source": [
    "num_topics = 20"
   ]
  },
  {
   "cell_type": "code",
   "execution_count": 16,
   "metadata": {},
   "outputs": [],
   "source": [
    "output_directory_path = '/Users/mah343/Desktop/lmw-output' # CHANGE THIS TO YOUR OUTPUT DIRECTORY\n",
    "\n",
    "training_data_path           = output_directory_path + '/training.txt'\n",
    "formatted_training_data_path = output_directory_path + '/mallet.training'\n",
    "model_path                   = output_directory_path + '/mallet.model.' + str(num_topics)\n",
    "topic_keys_path              = output_directory_path + '/mallet.topic_keys.' + str(num_topics)\n",
    "topic_distributions_path     = output_directory_path + '/mallet.topic_distributions.' + str(num_topics)"
   ]
  },
  {
   "cell_type": "code",
   "execution_count": null,
   "metadata": {},
   "outputs": [
    {
     "name": "stdout",
     "output_type": "stream",
     "text": [
      "Importing data...\n",
      "Training topic model...\n"
     ]
    }
   ],
   "source": [
    "lmw.train_topic_model(MALLET_PATH,\n",
    "                      training_data_path,\n",
    "                      formatted_training_data_path,\n",
    "                      model_path,\n",
    "                      topic_keys_path,\n",
    "                      topic_distributions_path,\n",
    "                      training_documents,\n",
    "                      num_topics)"
   ]
  },
  {
   "cell_type": "markdown",
   "metadata": {},
   "source": [
    "<br><br>\n",
    "\n",
    "# Load the topics"
   ]
  },
  {
   "cell_type": "code",
   "execution_count": null,
   "metadata": {},
   "outputs": [],
   "source": [
    "topics = lmw.load_topic_keys(output_directory_path + '/mallet.topic_keys.20')\n",
    "\n",
    "for i, t in enumerate(topics):\n",
    "    print(i, '\\t', t)"
   ]
  },
  {
   "cell_type": "code",
   "execution_count": null,
   "metadata": {},
   "outputs": [],
   "source": [
    "topic_distributions = lmw.load_topic_distributions(output_directory_path + '/mallet.topic_distributions.20')\n",
    "\n",
    "len(topic_distributions), len(topic_distributions[0])"
   ]
  },
  {
   "cell_type": "code",
   "execution_count": null,
   "metadata": {},
   "outputs": [],
   "source": [
    "topic_distributions[0]"
   ]
  },
  {
   "cell_type": "markdown",
   "metadata": {},
   "source": [
    "<br><br>\n",
    "\n",
    "# Plot topics by category"
   ]
  },
  {
   "cell_type": "code",
   "execution_count": null,
   "metadata": {},
   "outputs": [],
   "source": [
    "target_labels = ['John Keats', 'Emily Dickinson', 'William Butler Yeats', 'Christina Rossetti']\n",
    "\n",
    "lmw.plot_categories_by_topics_heatmap(authors,\n",
    "                                      topic_distributions,\n",
    "                                      topics, \n",
    "                                      output_directory_path + '/categories_by_topics.pdf',\n",
    "                                      target_labels=target_labels,\n",
    "                                      dim=(10,4))"
   ]
  },
  {
   "cell_type": "code",
   "execution_count": null,
   "metadata": {
    "scrolled": true
   },
   "outputs": [],
   "source": [
    "target_labels = ['John Keats', 'Emily Dickinson', 'William Butler Yeats', 'Christina Rossetti']\n",
    "\n",
    "for _topic_index in range(0, len(topics)):\n",
    "    \n",
    "    lmw.plot_categories_by_topic_boxplots(authors,\n",
    "                                          topic_distributions,\n",
    "                                          topics, \n",
    "                                          _topic_index,\n",
    "                                          output_path=output_directory_path + '/boxplot.' + str(_topic_index) + '.pdf',\n",
    "                                          target_labels=target_labels,\n",
    "                                          dim=(4,4))"
   ]
  },
  {
   "cell_type": "markdown",
   "metadata": {},
   "source": [
    "<br><br>\n",
    "\n",
    "# Plot topics over time"
   ]
  },
  {
   "cell_type": "code",
   "execution_count": null,
   "metadata": {},
   "outputs": [],
   "source": [
    "divided_documents, document_ids, times = lmw.divide_training_data(training_documents,\n",
    "                                                                  num_chunks=10)\n",
    "\n",
    "len(divided_documents), len(document_ids), len(times)"
   ]
  },
  {
   "cell_type": "code",
   "execution_count": null,
   "metadata": {},
   "outputs": [],
   "source": [
    "new_training_data_path           = output_directory_path + '/training.split.txt'\n",
    "new_formatted_training_data_path = output_directory_path + '/mallet.split.training'\n",
    "new_topic_distributions_path     = output_directory_path + '/mallet.split.topic_distributions.' + str(num_topics)"
   ]
  },
  {
   "cell_type": "code",
   "execution_count": null,
   "metadata": {},
   "outputs": [],
   "source": [
    "lmw.infer_topics(MALLET_PATH,\n",
    "                 formatted_training_data_path,\n",
    "                 model_path,\n",
    "                 new_training_data_path,\n",
    "                 new_formatted_training_data_path,\n",
    "                 new_topic_distributions_path,\n",
    "                 divided_documents)\n",
    "#                  [d for d in divided_documents if len(d) > 0])"
   ]
  },
  {
   "cell_type": "code",
   "execution_count": null,
   "metadata": {},
   "outputs": [],
   "source": [
    "topic_distributions = lmw.load_topic_distributions(new_topic_distributions_path)\n",
    "\n",
    "len(topic_distributions), len(topic_distributions[2])"
   ]
  },
  {
   "cell_type": "code",
   "execution_count": null,
   "metadata": {},
   "outputs": [],
   "source": [
    "for d in topic_distributions:\n",
    "#     assert(len(d) == 20)\n",
    "    if len(d) != 20:\n",
    "        print('no')"
   ]
  },
  {
   "cell_type": "code",
   "execution_count": null,
   "metadata": {
    "scrolled": false
   },
   "outputs": [],
   "source": [
    "for _topic_index in range(0, len(topics)):\n",
    "    lmw.plot_topics_over_time(topic_distributions, topics, times, _topic_index)"
   ]
  },
  {
   "cell_type": "code",
   "execution_count": null,
   "metadata": {},
   "outputs": [],
   "source": []
  },
  {
   "cell_type": "code",
   "execution_count": null,
   "metadata": {},
   "outputs": [],
   "source": []
  },
  {
   "cell_type": "code",
   "execution_count": null,
   "metadata": {},
   "outputs": [],
   "source": []
  },
  {
   "cell_type": "code",
   "execution_count": null,
   "metadata": {},
   "outputs": [],
   "source": []
  }
 ],
 "metadata": {
  "kernelspec": {
   "display_name": "Python 3",
   "language": "python",
   "name": "python3"
  },
  "language_info": {
   "codemirror_mode": {
    "name": "ipython",
    "version": 3
   },
   "file_extension": ".py",
   "mimetype": "text/x-python",
   "name": "python",
   "nbconvert_exporter": "python",
   "pygments_lexer": "ipython3",
   "version": "3.6.10"
  }
 },
 "nbformat": 4,
 "nbformat_minor": 2
}
