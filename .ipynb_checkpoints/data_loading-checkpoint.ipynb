{
 "cells": [
  {
   "cell_type": "code",
   "execution_count": 1,
   "metadata": {},
   "outputs": [],
   "source": [
    "from collections import defaultdict\n",
    "from datetime import datetime\n",
    "import math\n",
    "from operator import itemgetter\n",
    "import os\n",
    "import random\n",
    "import re\n",
    "\n",
    "import numpy as np\n",
    "import pandas as pd\n",
    "\n",
    "%matplotlib inline"
   ]
  },
  {
   "cell_type": "markdown",
   "metadata": {},
   "source": [
    "<br><br>\n",
    "\n",
    "# Load an example dataset\n",
    "\n",
    "This part isn't important. You just need to load some text dataset in the format ...\n",
    "\n",
    "For fun, I'm using a dataset of story plots from Wikipedia. \n",
    "\n",
    "Source: https://github.com/markriedl/WikiPlots"
   ]
  },
  {
   "cell_type": "code",
   "execution_count": 7,
   "metadata": {},
   "outputs": [],
   "source": [
    "# data_path = '/Users/mah343/Documents/data/wiki-plots/plots'\n",
    "\n",
    "# lines = [line.strip() for line in open(data_path, 'r')]\n",
    "\n",
    "# len(lines)"
   ]
  },
  {
   "cell_type": "code",
   "execution_count": 8,
   "metadata": {},
   "outputs": [],
   "source": [
    "# stories = [[]]\n",
    "# for line in lines:\n",
    "#     if line.strip() == '<EOS>':\n",
    "#         stories.append([])\n",
    "#     else:\n",
    "#         stories[-1].append(line.strip())\n",
    "        \n",
    "# len(stories)"
   ]
  },
  {
   "cell_type": "code",
   "execution_count": 9,
   "metadata": {},
   "outputs": [],
   "source": [
    "# print(stories[0])"
   ]
  },
  {
   "cell_type": "code",
   "execution_count": 10,
   "metadata": {},
   "outputs": [],
   "source": [
    "# training_documents = [little_lda_wrapper.process_string(' '.join(s)) for s in stories]\n",
    "\n",
    "# len(training_documents)"
   ]
  },
  {
   "cell_type": "code",
   "execution_count": 11,
   "metadata": {},
   "outputs": [],
   "source": [
    "# training_documents[0]"
   ]
  },
  {
   "cell_type": "markdown",
   "metadata": {},
   "source": [
    "# Load positive and negative movie reviews"
   ]
  },
  {
   "cell_type": "code",
   "execution_count": 74,
   "metadata": {
    "collapsed": true
   },
   "outputs": [],
   "source": [
    "# import os"
   ]
  },
  {
   "cell_type": "code",
   "execution_count": 73,
   "metadata": {
    "collapsed": true
   },
   "outputs": [],
   "source": [
    "# data_directory_path = 'data/txt_sentoken'"
   ]
  },
  {
   "cell_type": "code",
   "execution_count": 12,
   "metadata": {},
   "outputs": [],
   "source": [
    "# positive_reviews = []\n",
    "# negative_reviews = []\n",
    "\n",
    "# for file_name in os.listdir(data_directory_path + '/pos'):\n",
    "#     if file_name.endswith('.txt'): \n",
    "#         positive_reviews.append(' '.join([line for line in open(data_directory_path + '/pos/' + file_name)]))\n",
    "        \n",
    "# for file_name in os.listdir(data_directory_path + '/neg'):\n",
    "#     if file_name.endswith('.txt'): \n",
    "#         negative_reviews.append(' '.join([line for line in open(data_directory_path + '/neg/' + file_name)]))\n",
    "        \n",
    "# len(positive_reviews), len(negative_reviews)"
   ]
  },
  {
   "cell_type": "code",
   "execution_count": 13,
   "metadata": {},
   "outputs": [],
   "source": [
    "# positive_reviews[5]"
   ]
  },
  {
   "cell_type": "code",
   "execution_count": 14,
   "metadata": {},
   "outputs": [],
   "source": [
    "# training_documents = [little_lda_wrapper.process_string(r) for r in positive_reviews + negative_reviews]\n",
    "\n",
    "# len(training_documents)"
   ]
  },
  {
   "cell_type": "code",
   "execution_count": 15,
   "metadata": {},
   "outputs": [],
   "source": [
    "# training_documents[2]"
   ]
  },
  {
   "cell_type": "markdown",
   "metadata": {},
   "source": [
    "<br><br>\n",
    "\n",
    "# Load poetry dataset"
   ]
  },
  {
   "cell_type": "code",
   "execution_count": 27,
   "metadata": {},
   "outputs": [],
   "source": [
    "poetry_path = '/Volumes/Maria\\'s Black Passport/data/kaggle-poem-dataset/kaggle_poem_dataset.csv'"
   ]
  },
  {
   "cell_type": "code",
   "execution_count": 28,
   "metadata": {},
   "outputs": [
    {
     "data": {
      "text/html": [
       "<div>\n",
       "<style scoped>\n",
       "    .dataframe tbody tr th:only-of-type {\n",
       "        vertical-align: middle;\n",
       "    }\n",
       "\n",
       "    .dataframe tbody tr th {\n",
       "        vertical-align: top;\n",
       "    }\n",
       "\n",
       "    .dataframe thead th {\n",
       "        text-align: right;\n",
       "    }\n",
       "</style>\n",
       "<table border=\"1\" class=\"dataframe\">\n",
       "  <thead>\n",
       "    <tr style=\"text-align: right;\">\n",
       "      <th></th>\n",
       "      <th>Unnamed: 0</th>\n",
       "      <th>Author</th>\n",
       "      <th>Title</th>\n",
       "      <th>Poetry Foundation ID</th>\n",
       "      <th>Content</th>\n",
       "    </tr>\n",
       "  </thead>\n",
       "  <tbody>\n",
       "    <tr>\n",
       "      <th>13601</th>\n",
       "      <td>13601</td>\n",
       "      <td>James Galvin</td>\n",
       "      <td>Three Sonnets</td>\n",
       "      <td>48716</td>\n",
       "      <td>Where I live      distance is the primal fact\\...</td>\n",
       "    </tr>\n",
       "    <tr>\n",
       "      <th>1674</th>\n",
       "      <td>1674</td>\n",
       "      <td>Srikanth Reddy</td>\n",
       "      <td>Book Three: 16</td>\n",
       "      <td>55699</td>\n",
       "      <td>I tried to cut through\\nall our hurried centur...</td>\n",
       "    </tr>\n",
       "    <tr>\n",
       "      <th>5274</th>\n",
       "      <td>5274</td>\n",
       "      <td>Joanna Klink</td>\n",
       "      <td>The Graves</td>\n",
       "      <td>90188</td>\n",
       "      <td>So here are the strange feelings that flicker\\...</td>\n",
       "    </tr>\n",
       "    <tr>\n",
       "      <th>295</th>\n",
       "      <td>295</td>\n",
       "      <td>Diana Arterian</td>\n",
       "      <td>Agrippina the Younger, Age Thirteen\\n \\n \\n  \\...</td>\n",
       "      <td>146137</td>\n",
       "      <td>Rome\\nDomitius gives her iron – a ring\\nAgripp...</td>\n",
       "    </tr>\n",
       "    <tr>\n",
       "      <th>3556</th>\n",
       "      <td>3556</td>\n",
       "      <td>Elaine Equi</td>\n",
       "      <td>Earth, You Have Returned to Me</td>\n",
       "      <td>91313</td>\n",
       "      <td>Can you imagine waking up\\nevery morning on a ...</td>\n",
       "    </tr>\n",
       "    <tr>\n",
       "      <th>13357</th>\n",
       "      <td>13357</td>\n",
       "      <td>Grace Paley</td>\n",
       "      <td>That Country</td>\n",
       "      <td>48320</td>\n",
       "      <td>This is about the women of that country\\nSomet...</td>\n",
       "    </tr>\n",
       "    <tr>\n",
       "      <th>10759</th>\n",
       "      <td>10759</td>\n",
       "      <td>Jill Breckenridge</td>\n",
       "      <td>Pretty Ricky</td>\n",
       "      <td>58036</td>\n",
       "      <td>He’s 1200 pounds of pink pork covered by black...</td>\n",
       "    </tr>\n",
       "    <tr>\n",
       "      <th>8228</th>\n",
       "      <td>8228</td>\n",
       "      <td>Taha Muhammad Ali</td>\n",
       "      <td>Meeting at an Airport</td>\n",
       "      <td>54303</td>\n",
       "      <td>You asked me once,\\non our way back\\nfrom the ...</td>\n",
       "    </tr>\n",
       "    <tr>\n",
       "      <th>1507</th>\n",
       "      <td>1507</td>\n",
       "      <td>Dorothea Lasky</td>\n",
       "      <td>The Birth\\n \\n \\n  \\n   Launch Audio in a New ...</td>\n",
       "      <td>58029</td>\n",
       "      <td>The birth isn’t about poetry\\nIt is about scre...</td>\n",
       "    </tr>\n",
       "    <tr>\n",
       "      <th>14036</th>\n",
       "      <td>14036</td>\n",
       "      <td>Allison Seay</td>\n",
       "      <td>Town of Unspeakable Things</td>\n",
       "      <td>55084</td>\n",
       "      <td>Then there was the time I looked directly into...</td>\n",
       "    </tr>\n",
       "  </tbody>\n",
       "</table>\n",
       "</div>"
      ],
      "text/plain": [
       "       Unnamed: 0             Author  \\\n",
       "13601       13601       James Galvin   \n",
       "1674         1674     Srikanth Reddy   \n",
       "5274         5274       Joanna Klink   \n",
       "295           295     Diana Arterian   \n",
       "3556         3556        Elaine Equi   \n",
       "13357       13357        Grace Paley   \n",
       "10759       10759  Jill Breckenridge   \n",
       "8228         8228  Taha Muhammad Ali   \n",
       "1507         1507     Dorothea Lasky   \n",
       "14036       14036       Allison Seay   \n",
       "\n",
       "                                                   Title  \\\n",
       "13601                                      Three Sonnets   \n",
       "1674                                      Book Three: 16   \n",
       "5274                                          The Graves   \n",
       "295    Agrippina the Younger, Age Thirteen\\n \\n \\n  \\...   \n",
       "3556                      Earth, You Have Returned to Me   \n",
       "13357                                       That Country   \n",
       "10759                                       Pretty Ricky   \n",
       "8228                               Meeting at an Airport   \n",
       "1507   The Birth\\n \\n \\n  \\n   Launch Audio in a New ...   \n",
       "14036                         Town of Unspeakable Things   \n",
       "\n",
       "       Poetry Foundation ID                                            Content  \n",
       "13601                 48716  Where I live      distance is the primal fact\\...  \n",
       "1674                  55699  I tried to cut through\\nall our hurried centur...  \n",
       "5274                  90188  So here are the strange feelings that flicker\\...  \n",
       "295                  146137  Rome\\nDomitius gives her iron – a ring\\nAgripp...  \n",
       "3556                  91313  Can you imagine waking up\\nevery morning on a ...  \n",
       "13357                 48320  This is about the women of that country\\nSomet...  \n",
       "10759                 58036  He’s 1200 pounds of pink pork covered by black...  \n",
       "8228                  54303  You asked me once,\\non our way back\\nfrom the ...  \n",
       "1507                  58029  The birth isn’t about poetry\\nIt is about scre...  \n",
       "14036                 55084  Then there was the time I looked directly into...  "
      ]
     },
     "execution_count": 28,
     "metadata": {},
     "output_type": "execute_result"
    }
   ],
   "source": [
    "poetry_df = pd.read_csv(poetry_path)\n",
    "\n",
    "poetry_df.sample(10)"
   ]
  },
  {
   "cell_type": "code",
   "execution_count": 29,
   "metadata": {},
   "outputs": [
    {
     "name": "stdout",
     "output_type": "stream",
     "text": [
      "15652\n"
     ]
    }
   ],
   "source": [
    "print(len(poetry_df.index))"
   ]
  },
  {
   "cell_type": "code",
   "execution_count": 30,
   "metadata": {},
   "outputs": [
    {
     "name": "stdout",
     "output_type": "stream",
     "text": [
      "39\n"
     ]
    }
   ],
   "source": [
    "print(len(poetry_df.loc[poetry_df['Author'] == 'Robert Browning'].index))"
   ]
  },
  {
   "cell_type": "code",
   "execution_count": 31,
   "metadata": {},
   "outputs": [
    {
     "name": "stdout",
     "output_type": "stream",
     "text": [
      "47\n"
     ]
    }
   ],
   "source": [
    "print(len(poetry_df.loc[poetry_df['Author'] == 'William Butler Yeats'].index))"
   ]
  },
  {
   "cell_type": "code",
   "execution_count": 32,
   "metadata": {},
   "outputs": [
    {
     "name": "stdout",
     "output_type": "stream",
     "text": [
      "32\n"
     ]
    }
   ],
   "source": [
    "print(len(poetry_df.loc[poetry_df['Author'] == 'John Keats'].index))"
   ]
  },
  {
   "cell_type": "code",
   "execution_count": 33,
   "metadata": {},
   "outputs": [
    {
     "name": "stdout",
     "output_type": "stream",
     "text": [
      "57\n"
     ]
    }
   ],
   "source": [
    "print(len(poetry_df.loc[poetry_df['Author'] == 'Emily Dickinson'].index))"
   ]
  },
  {
   "cell_type": "code",
   "execution_count": 34,
   "metadata": {},
   "outputs": [
    {
     "name": "stdout",
     "output_type": "stream",
     "text": [
      "30\n"
     ]
    }
   ],
   "source": [
    "print(len(poetry_df.loc[poetry_df['Author'] == 'Christina Rossetti'].index))"
   ]
  },
  {
   "cell_type": "code",
   "execution_count": 35,
   "metadata": {},
   "outputs": [
    {
     "data": {
      "text/plain": [
       "15652"
      ]
     },
     "execution_count": 35,
     "metadata": {},
     "output_type": "execute_result"
    }
   ],
   "source": [
    "training_documents = [little_lda_wrapper.process_string(_text) for _text in poetry_df['Content'].tolist()]\n",
    "\n",
    "len(training_documents)"
   ]
  },
  {
   "cell_type": "code",
   "execution_count": 36,
   "metadata": {},
   "outputs": [
    {
     "data": {
      "text/plain": [
       "'year twelve daughters turn gone measured pace tho varying mien twelve froward sedater adorn festival reckless attire snow left mountain top fresh flowers withered meadow fig prune hung wrinkling last apple glow amid freckled leaves weary oxen blinkt trodden corn twisted vine whose bunches stood empty crate creak ere long beneath carried home season twelve months gentle hamadryad true love thy mansion thy dim mansion wood blasted laid desolate none dared violate precincts none dared pluck moss beneath alone remain thine old thallinos sat mute solitary sadness strange tale rhaicos died whole echion related force could ever make look back upon oaks father said echion thou must weigh carefully steady hand enough although longer comes store wax burn day night upon hollow stone milk honey lie may gods may dead pleas thallinos bore thither morn lighted left first visited upon solemn day hamadryad oak rhodope acon one age one hope one trust graceful nymph whose fate sorrowed slender pale first lapt flame love father lands fertile herds lowed afar stood two aside hollow stone lookt stedfast eyes toward oak shivered black bare may never love loved said acon smiled said meant say thought bliss end caught flying smile blusht vow time power whereto might love hath yielded may yield alter father youth wanted beauty wanted song could lift earth weight heart discretion could guide thro world innocence could clear way heaven silver gold land green ancestral gate purple skies bending far wanted heir fathers given life virgin heart never gave dare control check harshly dare break bond girt round holiest power high acon grieved said grieved bitterly acon complied twas dutiful crush thy heart man man fear wound gentler relies thee alone thee created weak strong thee touch worship watch sanctuary leave till closed temple doors last lamp spent rhodope soul waste solitude sate mournful dull resounding sea often hearing many tears cold breezes hardened cheek meanwhile sauntered wood oaks shun look upon hollow stone held milk honey lay plighted hand recently twas laid opposite finger playfully advanced pusht back finger side think would alone day hot moss invited cool cheek cool hands thrust sank slumber never dream divine saw hamadryad took arm led along valley profusely grew smaller lilies pendent bells hiding mint chill drosera violet shy butting cyclamen feathery fern browser moist banks offspring round soft strawberry quivering spray ruddy tamarisk oleander light hair progeny breathing bright freshness face graceful rose bending brow cup fragrance beauty boon gods fragrance fill breast delight senses bewildered thought saw face loved stopt hamadryad side stood drew farther went compliant soon verdure ceast altho ground smooth nothing delightful change would spoken guide represt questioning said weak youth brought thy footstep wood native haunt life long residence bank first sate faithful know late faithful rhaicos haste thee home happy thou canst come death alone could sever died started moss whereon slept dried withered deadlier paleness spread cheek sickened sire land enough held son'"
      ]
     },
     "execution_count": 36,
     "metadata": {},
     "output_type": "execute_result"
    }
   ],
   "source": [
    "training_documents[100]"
   ]
  },
  {
   "cell_type": "code",
   "execution_count": 37,
   "metadata": {},
   "outputs": [
    {
     "data": {
      "text/plain": [
       "15652"
      ]
     },
     "execution_count": 37,
     "metadata": {},
     "output_type": "execute_result"
    }
   ],
   "source": [
    "authors = poetry_df['Author'].tolist()\n",
    "\n",
    "len(authors)"
   ]
  },
  {
   "cell_type": "code",
   "execution_count": null,
   "metadata": {},
   "outputs": [],
   "source": []
  }
 ],
 "metadata": {
  "kernelspec": {
   "display_name": "Python 3",
   "language": "python",
   "name": "python3"
  },
  "language_info": {
   "codemirror_mode": {
    "name": "ipython",
    "version": 3
   },
   "file_extension": ".py",
   "mimetype": "text/x-python",
   "name": "python",
   "nbconvert_exporter": "python",
   "pygments_lexer": "ipython3",
   "version": "3.6.10"
  }
 },
 "nbformat": 4,
 "nbformat_minor": 4
}
